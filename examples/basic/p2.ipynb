{
 "cells": [
  {
   "cell_type": "code",
   "execution_count": null,
   "metadata": {},
   "outputs": [
    {
     "ename": "",
     "evalue": "",
     "output_type": "error",
     "traceback": [
      "\u001b[1;31mRunning cells with 'para-ss' requires the ipykernel package.\n",
      "\u001b[1;31mRun the following command to install 'ipykernel' into the Python environment. \n",
      "\u001b[1;31mCommand: 'conda install -n para-ss ipykernel --update-deps --force-reinstall'"
     ]
    }
   ],
   "source": [
    "print(\"notebook woot\")"
   ]
  },
  {
   "cell_type": "code",
   "execution_count": null,
   "metadata": {},
   "outputs": [],
   "source": [
    "print(\"notebook second cell\")"
   ]
  }
 ],
 "metadata": {
  "kernelspec": {
   "display_name": "para-ss",
   "language": "python",
   "name": "python3"
  },
  "language_info": {
   "name": "python",
   "version": "3.10.11"
  },
  "orig_nbformat": 4,
  "vscode": {
   "interpreter": {
    "hash": "93969f2d77cc543cb20750ed6681f8bb0a00cfc8d517e549ecd2df45d8689e6f"
   }
  }
 },
 "nbformat": 4,
 "nbformat_minor": 2
}
